{
 "cells": [
  {
   "cell_type": "code",
   "execution_count": 1,
   "metadata": {
    "collapsed": false
   },
   "outputs": [],
   "source": [
    "#!pip install soundfile"
   ]
  },
  {
   "cell_type": "code",
   "execution_count": 2,
   "metadata": {
    "collapsed": true
   },
   "outputs": [],
   "source": [
    "import pyaudio\n",
    "import sounddevice as sd\n",
    "import soundfile as sf"
   ]
  },
  {
   "cell_type": "markdown",
   "metadata": {},
   "source": [
    "# See the microphone"
   ]
  },
  {
   "cell_type": "raw",
   "metadata": {},
   "source": [
    "\n",
    "> input\n",
    "< output\n",
    "* default input and output"
   ]
  },
  {
   "cell_type": "code",
   "execution_count": 3,
   "metadata": {
    "collapsed": false,
    "scrolled": true
   },
   "outputs": [
    {
     "data": {
      "text/plain": [
       "< 0 Volumio, Core Audio (0 in, 2 out)\n",
       "  1 Built-in Microph, Core Audio (2 in, 0 out)\n",
       "  2 Built-in Output, Core Audio (0 in, 2 out)\n",
       "  3 Samson Meteor Mic, Core Audio (0 in, 2 out)\n",
       "> 4 Samson Meteor Mic, Core Audio (2 in, 0 out)\n",
       "  5 Soundflower (2ch), Core Audio (2 in, 2 out)\n",
       "  6 Soundflower (64ch), Core Audio (64 in, 64 out)\n",
       "  7 WavTap, Core Audio (2 in, 2 out)\n",
       "  8 System Audio Recorder, Core Audio (2 in, 0 out)"
      ]
     },
     "execution_count": 3,
     "metadata": {},
     "output_type": "execute_result"
    }
   ],
   "source": [
    "sd.query_devices() "
   ]
  },
  {
   "cell_type": "code",
   "execution_count": 4,
   "metadata": {
    "collapsed": true
   },
   "outputs": [],
   "source": [
    "sd.query_devices?"
   ]
  },
  {
   "cell_type": "code",
   "execution_count": 5,
   "metadata": {
    "collapsed": false
   },
   "outputs": [],
   "source": [
    "#sd.default.device =7  # record device take one with (2 in, ..)\n",
    "sd.default.channels = 2"
   ]
  },
  {
   "cell_type": "markdown",
   "metadata": {},
   "source": [
    "##### Record for 10 seconds"
   ]
  },
  {
   "cell_type": "code",
   "execution_count": 14,
   "metadata": {
    "collapsed": false,
    "scrolled": false
   },
   "outputs": [],
   "source": [
    "duration = 10  # seconds\n",
    "fs=44100\n",
    "myrecording = sd.rec(int(duration * fs) )"
   ]
  },
  {
   "cell_type": "markdown",
   "metadata": {},
   "source": [
    "##### Play the recording"
   ]
  },
  {
   "cell_type": "code",
   "execution_count": 17,
   "metadata": {
    "collapsed": false
   },
   "outputs": [],
   "source": [
    "sd.play(myrecording)"
   ]
  },
  {
   "cell_type": "markdown",
   "metadata": {},
   "source": [
    "##### Format\n",
    "The format is a numpy array"
   ]
  },
  {
   "cell_type": "code",
   "execution_count": 15,
   "metadata": {
    "collapsed": false
   },
   "outputs": [
    {
     "name": "stdout",
     "output_type": "stream",
     "text": [
      "[[ 0.01452637  0.01446533]\n",
      " [ 0.01425171  0.01419067]\n",
      " [ 0.01248169  0.01235962]\n",
      " ..., \n",
      " [-0.02587891 -0.02584839]\n",
      " [-0.02297974 -0.02297974]\n",
      " [-0.02102661 -0.02099609]]\n"
     ]
    }
   ],
   "source": [
    "print myrecording"
   ]
  },
  {
   "cell_type": "code",
   "execution_count": 18,
   "metadata": {
    "collapsed": false
   },
   "outputs": [
    {
     "data": {
      "text/plain": [
       "array([ 0.01446533,  0.01419067,  0.01235962, ..., -0.02584839,\n",
       "       -0.02297974, -0.02099609], dtype=float32)"
      ]
     },
     "execution_count": 18,
     "metadata": {},
     "output_type": "execute_result"
    }
   ],
   "source": [
    "myrecording[:, 0]# left channel\n",
    "myrecording[:, 1]# right channel"
   ]
  },
  {
   "cell_type": "markdown",
   "metadata": {},
   "source": [
    "##### Save the recording "
   ]
  },
  {
   "cell_type": "code",
   "execution_count": 10,
   "metadata": {
    "collapsed": true
   },
   "outputs": [],
   "source": [
    "sf.write?"
   ]
  },
  {
   "cell_type": "code",
   "execution_count": 19,
   "metadata": {
    "collapsed": true
   },
   "outputs": [],
   "source": [
    "sf.write(\"myWave.wav\",myrecording,fs)"
   ]
  },
  {
   "cell_type": "markdown",
   "metadata": {},
   "source": [
    "##### Read the recording "
   ]
  },
  {
   "cell_type": "code",
   "execution_count": 20,
   "metadata": {
    "collapsed": false
   },
   "outputs": [],
   "source": [
    "\n",
    "data, fs = sf.read('myWave.wav', dtype='float32')\n",
    "sd.play(data, fs, device=0, blocking=True)\n",
    " "
   ]
  },
  {
   "cell_type": "markdown",
   "metadata": {},
   "source": [
    "#####  Another way"
   ]
  },
  {
   "cell_type": "code",
   "execution_count": null,
   "metadata": {
    "collapsed": false
   },
   "outputs": [],
   "source": [
    "import pyaudio\n",
    "import wave\n",
    "\n",
    "CHUNK = 1024\n",
    "FORMAT = pyaudio.paInt16\n",
    "CHANNELS = 2\n",
    "RATE = 44100\n",
    "RECORD_SECONDS = 5\n",
    "WAVE_OUTPUT_FILENAME = \"output3.wav\"\n",
    "\n",
    "p = pyaudio.PyAudio()\n",
    "\n",
    "stream = p.open(format=FORMAT,\n",
    "                channels=CHANNELS,\n",
    "                rate=RATE,\n",
    "                input=True,\n",
    "                frames_per_buffer=CHUNK)\n",
    "\n",
    "print(\"* recording\")\n",
    "\n",
    "frames = []\n",
    "\n",
    "for i in range(0, int(RATE / CHUNK * RECORD_SECONDS)):\n",
    "    data = stream.read(CHUNK)\n",
    "    frames.append(data)\n",
    "\n",
    "print(\"* done recording\")\n",
    "\n",
    "stream.stop_stream()\n",
    "stream.close()\n",
    "p.terminate()\n",
    "\n",
    "wf = wave.open(WAVE_OUTPUT_FILENAME, 'wb')\n",
    "wf.setnchannels(CHANNELS)\n",
    "wf.setsampwidth(p.get_sample_size(FORMAT))\n",
    "wf.setframerate(RATE)\n",
    "wf.writeframes(b''.join(frames))\n",
    "wf.close()"
   ]
  },
  {
   "cell_type": "code",
   "execution_count": null,
   "metadata": {
    "collapsed": true
   },
   "outputs": [],
   "source": [
    "sf.write?"
   ]
  },
  {
   "cell_type": "code",
   "execution_count": null,
   "metadata": {
    "collapsed": false,
    "scrolled": true
   },
   "outputs": [],
   "source": [
    "#def callback(indata: numpy.ndarray, frames: int, time: CData, status: CallbackFlags) -> None\n",
    "\n",
    "def callback(outdata, frame_count, time, status):\n",
    "    view = sf.read(frame_count, dtype='float32', out=outdata)\n",
    "    if (view.size != outdata.size):   # this was the last buffer.\n",
    "        # zero the part of outdata not written into  by sf.read()\n",
    "        outdata[view.shape[0]:,:].fill(0.0)\n",
    "        print('stopping')\n",
    "        raise sd.CallbackStop()\n",
    "#with sf.SoundFile(\"mywav.wav\", mode='x', samplerate=44100, channels=2, subtype=2) as mywav:\n",
    "with sf.SoundFile(\"mywav6.wav\", mode='x', samplerate=44100,channels=2) as mywav:\n",
    "#    with sd.InputStream(samplerate=44100, device=0, channels=2, callback=callback):\n",
    "    with sd.InputStream(samplerate=44100, device=0, channels=2, callback=callback):\n",
    "        print('#' * 80)\n",
    "        print('press Ctrl+C to stop the recording')\n",
    "        print('#' * 80)\n",
    "        while True:\n",
    "            mywav.write('test.wav')"
   ]
  }
 ],
 "metadata": {
  "kernelspec": {
   "display_name": "Python 2",
   "language": "python",
   "name": "python2"
  },
  "language_info": {
   "codemirror_mode": {
    "name": "ipython",
    "version": 2
   },
   "file_extension": ".py",
   "mimetype": "text/x-python",
   "name": "python",
   "nbconvert_exporter": "python",
   "pygments_lexer": "ipython2",
   "version": "2.7.12"
  }
 },
 "nbformat": 4,
 "nbformat_minor": 2
}
