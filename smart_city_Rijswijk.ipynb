{
 "cells": [
  {
   "cell_type": "markdown",
   "metadata": {
    "deletable": true,
    "editable": true,
    "toc": "true"
   },
   "source": [
    "# Table of Contents\n",
    " <p><div class=\"lev1\"><a href=\"#Smart-city-Rijswijk\"><span class=\"toc-item-num\">1&nbsp;&nbsp;</span>Smart city Rijswijk</a></div><div class=\"lev1\"><a href=\"#Configuration\"><span class=\"toc-item-num\">2&nbsp;&nbsp;</span>Configuration</a></div><div class=\"lev1\"><a href=\"#Show-me-the-data\"><span class=\"toc-item-num\">3&nbsp;&nbsp;</span>Show me the data</a></div><div class=\"lev2\"><a href=\"#Get-de-data\"><span class=\"toc-item-num\">3.1&nbsp;&nbsp;</span>Get de data</a></div><div class=\"lev2\"><a href=\"#Show-all-files\"><span class=\"toc-item-num\">3.2&nbsp;&nbsp;</span>Show all files</a></div><div class=\"lev2\"><a href=\"#Show-file\"><span class=\"toc-item-num\">3.3&nbsp;&nbsp;</span>Show file</a></div><div class=\"lev1\"><a href=\"#Analyse\"><span class=\"toc-item-num\">4&nbsp;&nbsp;</span>Analyse</a></div><div class=\"lev2\"><a href=\"#Luchtvochtigheid\"><span class=\"toc-item-num\">4.1&nbsp;&nbsp;</span>Luchtvochtigheid</a></div><div class=\"lev2\"><a href=\"#Fijn-stof-(PM10)\"><span class=\"toc-item-num\">4.2&nbsp;&nbsp;</span>Fijn stof (PM10)</a></div><div class=\"lev2\"><a href=\"#Fijn-stof-(PM2.5)\"><span class=\"toc-item-num\">4.3&nbsp;&nbsp;</span>Fijn stof (PM2.5)</a></div><div class=\"lev2\"><a href=\"#Geluid\"><span class=\"toc-item-num\">4.4&nbsp;&nbsp;</span>Geluid</a></div>"
   ]
  },
  {
   "cell_type": "markdown",
   "metadata": {
    "deletable": true,
    "editable": true
   },
   "source": [
    "# Smart city Rijswijk\n",
    "\n",
    "De gemeente Rijswijk heeft de wijk Vrijenban aangewezen als proeftuin voor het Smart City Living Lab. Veel ontwikkelingen staan nog in de kinderschoenen en moeten worden getest.\n",
    "\n",
    "Sensoren die luchtkwaliteit meten, maken duidelijk hoe goed of slecht de luchtkwaliteit is. Aan de hand van precieze informatie daarover kan worden gekeken naar exacte oorzaken en effectieve mogelijkheden om hier iets mee of aan te doen.\n",
    "\n",
    "Kijk voor meer informatie https://www.rijswijk.nl/projecten/smartcity\n",
    "\n",
    "Kijk op de map waar de aparaten staan\n",
    "http://data.smartemission.nl/smartapp/\n",
    "\n",
    "\n",
    "url om data in csv bestanden te downloaden\n",
    "http://data.smartemission.nl/geoserver/wfs?request=GetFeature&typename=timeseries_component&outputformat=csv&CQL_FILTER=device_id=station id\n",
    "\n",
    "\n",
    "where component is one of 'co2', 'co', 'coraw', 'no2', 'no2raw', 'o3', 'o3raw', 'temperature', 'pressure', 'humidity', 'noise_level_avg' and station id a station number like 12."
   ]
  },
  {
   "cell_type": "code",
   "execution_count": 1,
   "metadata": {
    "collapsed": true,
    "deletable": true,
    "editable": true,
    "run_control": {
     "marked": true
    }
   },
   "outputs": [],
   "source": [
    "import pandas as pd \n",
    "import matplotlib.pyplot as plt\n",
    "#import urllib2\n",
    "import glob\n",
    "from ipywidgets import interact, interactive, fixed, interact_manual\n",
    "import ipywidgets as widgets"
   ]
  },
  {
   "cell_type": "markdown",
   "metadata": {
    "deletable": true,
    "editable": true
   },
   "source": [
    "# Configuration\n",
    "Zoek het nummer van het meet station\n",
    "http://data.smartemission.nl/smartapp/"
   ]
  },
  {
   "cell_type": "code",
   "execution_count": 2,
   "metadata": {
    "collapsed": false,
    "deletable": true,
    "editable": true,
    "run_control": {
     "marked": true
    }
   },
   "outputs": [],
   "source": [
    "station=['20020001','20020002','20020003','20020004','20020005','20020006','20020007','20020008','20020009']\n",
    "station=['20020001','20020002','20020003','20020004']\n",
    "meeting=['co2','noise_level_avg', 'temperature', 'pressure', 'humidity','pm10','pm25']\n",
    "#meeting=[ 'co', 'coraw', 'no2', 'no2raw', 'o3', 'o3raw']\n",
    "meeting=[ 'pm10']\n"
   ]
  },
  {
   "cell_type": "markdown",
   "metadata": {
    "deletable": true,
    "editable": true
   },
   "source": [
    "# Show me the data\n",
    "\n",
    "Search for the data, download and save the data to csv file format."
   ]
  },
  {
   "cell_type": "markdown",
   "metadata": {
    "deletable": true,
    "editable": true
   },
   "source": [
    "## Get de data"
   ]
  },
  {
   "cell_type": "code",
   "execution_count": 3,
   "metadata": {
    "collapsed": true,
    "deletable": true,
    "editable": true,
    "run_control": {
     "marked": true
    }
   },
   "outputs": [],
   "source": [
    "\n",
    "for s in station:\n",
    "    for m in meeting:\n",
    "        url =\"http://data.smartemission.nl/geoserver/wfs?request=GetFeature&typename=timeseries_\"+m+\"&outputformat=csv&CQL_FILTER=device_id=\"+s\n",
    "        newname=s+'_'+m+'.csv'\n",
    "        df=pd.read_csv(url)\n",
    "        df.to_csv(newname)\n",
    "        "
   ]
  },
  {
   "cell_type": "markdown",
   "metadata": {
    "deletable": true,
    "editable": true
   },
   "source": [
    "## Show all files"
   ]
  },
  {
   "cell_type": "code",
   "execution_count": 4,
   "metadata": {
    "collapsed": false,
    "deletable": true,
    "editable": true,
    "run_control": {
     "marked": true
    }
   },
   "outputs": [
    {
     "data": {
      "text/plain": [
       "['20020003_pm10.csv',\n",
       " '20020002_pm10.csv',\n",
       " '20020004_pm10.csv',\n",
       " '20020001_pm10.csv']"
      ]
     },
     "execution_count": 4,
     "metadata": {},
     "output_type": "execute_result"
    }
   ],
   "source": [
    "#files=glob.glob('*.csv')\n",
    "files=glob.glob('*_pm10.csv')\n",
    "files"
   ]
  },
  {
   "cell_type": "markdown",
   "metadata": {
    "deletable": true,
    "editable": true
   },
   "source": [
    "## Show file\n",
    "Now look in a file. What do we have here?"
   ]
  },
  {
   "cell_type": "code",
   "execution_count": 5,
   "metadata": {
    "collapsed": false,
    "deletable": true,
    "editable": true,
    "run_control": {
     "marked": true
    }
   },
   "outputs": [
    {
     "ename": "NameError",
     "evalue": "name 'df_pm10' is not defined",
     "output_type": "error",
     "traceback": [
      "\u001b[0;31m---------------------------------------------------------------------------\u001b[0m",
      "\u001b[0;31mNameError\u001b[0m                                 Traceback (most recent call last)",
      "\u001b[0;32m<ipython-input-5-335b07bd8871>\u001b[0m in \u001b[0;36m<module>\u001b[0;34m()\u001b[0m\n\u001b[1;32m      1\u001b[0m \u001b[0mdf\u001b[0m \u001b[0;34m=\u001b[0m \u001b[0mpd\u001b[0m\u001b[0;34m.\u001b[0m\u001b[0mread_csv\u001b[0m\u001b[0;34m(\u001b[0m\u001b[0mfiles\u001b[0m\u001b[0;34m[\u001b[0m\u001b[0;36m2\u001b[0m\u001b[0;34m]\u001b[0m\u001b[0;34m)\u001b[0m\u001b[0;34m\u001b[0m\u001b[0m\n\u001b[0;32m----> 2\u001b[0;31m \u001b[0mdf_pm10\u001b[0m\u001b[0;34m\u001b[0m\u001b[0m\n\u001b[0m",
      "\u001b[0;31mNameError\u001b[0m: name 'df_pm10' is not defined"
     ]
    }
   ],
   "source": [
    "df = pd.read_csv(files[2])\n",
    "df_pm10"
   ]
  },
  {
   "cell_type": "markdown",
   "metadata": {
    "deletable": true,
    "editable": true
   },
   "source": [
    "# Analyse "
   ]
  },
  {
   "cell_type": "markdown",
   "metadata": {
    "deletable": true,
    "editable": true,
    "hide_input": false
   },
   "source": [
    "## Luchtvochtigheid"
   ]
  },
  {
   "cell_type": "code",
   "execution_count": null,
   "metadata": {
    "collapsed": false,
    "deletable": true,
    "editable": true
   },
   "outputs": [],
   "source": [
    "def process_humidity_file(filenaam):\n",
    "    df = pd.read_csv(filenaam)\n",
    "    df['time']=pd.to_datetime(df['time'],format='%Y-%m-%dT%H:%M:%S' )\n",
    "    return df\n",
    "    \n",
    "files=glob.glob(\"*_humidity.csv\")\n",
    "frames = [ process_humidity_file(f) for f in files ]\n",
    "df_humidity = pd.concat(frames)\n",
    "df_humidity.set_index('time', inplace=True)"
   ]
  },
  {
   "cell_type": "code",
   "execution_count": null,
   "metadata": {
    "collapsed": true,
    "deletable": true,
    "editable": true
   },
   "outputs": [],
   "source": [
    "df_humidity=df_humidity['2018-1':'2018-2-28']"
   ]
  },
  {
   "cell_type": "code",
   "execution_count": null,
   "metadata": {
    "collapsed": false,
    "deletable": true,
    "editable": true
   },
   "outputs": [],
   "source": [
    "plt.figure(figsize=(20,10))\n",
    "df_humidity.groupby('device_id')['value_raw'].plot(legend=True)"
   ]
  },
  {
   "cell_type": "markdown",
   "metadata": {
    "deletable": true,
    "editable": true
   },
   "source": [
    "## Fijn stof (PM10)\n",
    "De dagelijkse concentratie fijn stof (PM10) is afhankelijk van het weer. In de steden zijn de concentraties overdag gemiddeld iets hoger dan ’s nachts, vooral door de verkeersbijdrage. PM10 is een verzamelnaam voor zwevende, inhaleerbare deeltjes met een maximale doorsnede van 0,01 milimeter. De wettelijke norm is een jaargemiddelde van 40 (μg/m3). Daarnaast mag het daggemiddelde jaarlijks maximaal 35 keer hoger zijn dan 50 (μg/m3). \n",
    "\n",
    "Bron:https://www.luchtmeetnet.nl/uitleg#"
   ]
  },
  {
   "cell_type": "code",
   "execution_count": null,
   "metadata": {
    "code_folding": [
     0
    ],
    "collapsed": false,
    "deletable": true,
    "editable": true
   },
   "outputs": [],
   "source": [
    "def process_PM10_file(filenaam):\n",
    "    df = pd.read_csv(filenaam)\n",
    "    df['time']=pd.to_datetime(df['time'],format='%Y-%m-%dT%H:%M:%S' )\n",
    "   # df.sort_values(by='time')\n",
    "    return df\n",
    "    \n",
    "files=glob.glob(\"*_pm10.csv\")\n",
    "frames = [ process_PM10_file(f) for f in files ]\n",
    "df_pm10 = pd.concat(frames)\n",
    "#%%!df_pm10.sort_values(by='time')\n",
    "df_pm10.set_index('time', inplace=True)"
   ]
  },
  {
   "cell_type": "code",
   "execution_count": null,
   "metadata": {
    "collapsed": false,
    "deletable": true,
    "editable": true,
    "run_control": {
     "marked": true
    }
   },
   "outputs": [],
   "source": [
    "df_pm10_period=df_pm10['2018-4-13':'2018-4-14']\n",
    "\n"
   ]
  },
  {
   "cell_type": "code",
   "execution_count": null,
   "metadata": {
    "collapsed": false,
    "deletable": true,
    "editable": true
   },
   "outputs": [],
   "source": [
    "#plt.legend(loc=\"upper left\")\n",
    "plt.figure(figsize=(20,10))\n",
    "plt.title(r'PM10')\n",
    "plt.xlabel(\"x as  \"), plt.ylabel(\"aantal pm 10 deeljes\")\n",
    "plt.grid(True)\n",
    "#plt.legend( ['vrije','twee',\"sdf\",\"sdf\"],title=\"PM10\", loc=4, fontsize='small', fancybox=True)\n",
    "plt.legend({'vrije','twee',\"sdf\",\"sdf\"})\n",
    "\n",
    "\n",
    "df_pm10_period.groupby('device_id')['value_raw'].plot(legend=True)\n",
    "plt.show()"
   ]
  },
  {
   "cell_type": "code",
   "execution_count": null,
   "metadata": {
    "collapsed": false,
    "deletable": true,
    "editable": true
   },
   "outputs": [],
   "source": [
    "df_pm10"
   ]
  },
  {
   "cell_type": "markdown",
   "metadata": {
    "deletable": true,
    "editable": true
   },
   "source": [
    "## Fijn stof (PM2.5)\n",
    "De dagelijkse concentratie fijn stof (PM2.5) is afhankelijk van het weer. In de steden zijn de concentraties overdag gemiddeld iets hoger dan ’s nachts, vooral door de verkeersbijdrage. PM2.5 is een verzamelnaam voor zwevende, inhaleerbare deeltjes met een maximale doorsnede van 0,0025 millimeter. De wettelijke norm is een jaargemiddelde van 25 (μg/m3). Doordat PM2.5 nog kleiner is dan PM10 kunnen deze deeltjes dieper doordringen in de longen en zijn ze schadelijker voor de gezondheid.\n",
    "\n",
    "%matplotlib inline\n",
    "from ipywidgets import interactive\n",
    "import matplotlib.pyplot as plt\n",
    "import numpy as np\n",
    "\n",
    "def f(m, b):\n",
    "    plt.figure(2)\n",
    "    x = np.linspace(-10, 10, num=1000)\n",
    "    plt.plot(df['date2'].tolist(),df['value_raw'].tolist())\n",
    "    plt.ylim(-5, 5)\n",
    "    plt.show()\n",
    "\n",
    "interactive_plot = interactive(f, m=(-2.0, 2.0), b=(-3, 3, 0.5))\n",
    "output = interactive_plot.children[-1]\n",
    "output.layout.height = '350px'\n",
    "interactive_plot"
   ]
  },
  {
   "cell_type": "code",
   "execution_count": null,
   "metadata": {
    "collapsed": false,
    "deletable": true,
    "editable": true,
    "scrolled": true
   },
   "outputs": [],
   "source": [
    "fig, ax = plt.subplots()\n",
    "ax.plot(df['date2'].tolist(),df['value'].tolist(),'-o',ms=20,lw=2,alpha=0.7,mfc='orange')\n",
    "ax.grid()\n",
    "tijden=df['value'].tolist()\n",
    "#ax.format_xdata = tijden.DateFormatter('%Y-%m-%d')\n",
    "plt.show()"
   ]
  },
  {
   "cell_type": "markdown",
   "metadata": {
    "deletable": true,
    "editable": true
   },
   "source": [
    "## Geluid"
   ]
  },
  {
   "cell_type": "code",
   "execution_count": null,
   "metadata": {
    "collapsed": false,
    "deletable": true,
    "editable": true
   },
   "outputs": [],
   "source": [
    "def process_sound(filenaam):\n",
    "    df = pd.read_csv(filenaam)\n",
    "    df['time']=pd.to_datetime(df['time'],format='%Y-%m-%dT%H:%M:%S' )\n",
    "   # df.sort_values(by='time')\n",
    "    return df\n",
    "    \n",
    "files=glob.glob(\"*noise_level_avg.csv\")\n",
    "frames = [ process_sound(f) for f in files ]\n",
    "df_sound = pd.concat(frames)\n",
    "#df_pm10.sort_values(by='time')\n",
    "df_sound.set_index('time', inplace=True)"
   ]
  },
  {
   "cell_type": "code",
   "execution_count": null,
   "metadata": {
    "collapsed": false,
    "deletable": true,
    "editable": true
   },
   "outputs": [],
   "source": [
    "plt.figure(figsize=(20,10))\n",
    "df_sound.groupby('device_id')['value_raw'].plot(legend=True)"
   ]
  },
  {
   "cell_type": "code",
   "execution_count": null,
   "metadata": {
    "collapsed": false,
    "deletable": true,
    "editable": true
   },
   "outputs": [],
   "source": [
    "plt.show()"
   ]
  },
  {
   "cell_type": "code",
   "execution_count": null,
   "metadata": {
    "collapsed": false,
    "deletable": true,
    "editable": true,
    "run_control": {
     "marked": true
    }
   },
   "outputs": [],
   "source": [
    "w=DateRangePicker(start='2016-08-02',end=\"2016-09-02\",freq='D',fmt='%Y-%m-%d')\n",
    "w.observe=fct\n",
    "w.display()"
   ]
  },
  {
   "cell_type": "code",
   "execution_count": null,
   "metadata": {
    "collapsed": true,
    "deletable": true,
    "editable": true,
    "run_control": {
     "marked": true
    }
   },
   "outputs": [],
   "source": []
  },
  {
   "cell_type": "code",
   "execution_count": null,
   "metadata": {
    "code_folding": [
     5
    ],
    "collapsed": true,
    "deletable": true,
    "editable": true
   },
   "outputs": [],
   "source": [
    "import pandas as pd\n",
    "import ipywidgets as widgets\n",
    "from IPython.display import display\n",
    "\n",
    "class DateRangePicker(object):\n",
    "    def __init__(self,start,end,freq='D',fmt='%Y-%m-%d'):\n",
    "        \"\"\"\n",
    "        Parameters\n",
    "        ----------\n",
    "        start : string or datetime-like\n",
    "            Left bound of the period\n",
    "        end : string or datetime-like\n",
    "            Left bound of the period\n",
    "        freq : string or pandas.DateOffset, default='D'\n",
    "            Frequency strings can have multiples, e.g. '5H' \n",
    "        fmt : string, defauly = '%Y-%m-%d'\n",
    "            Format to use to display the selected period\n",
    "\n",
    "        \"\"\"\n",
    "        self.date_range=pd.date_range(start=start,end=end,freq=freq)\n",
    "        options = [(item.strftime(fmt),item) for item in self.date_range]\n",
    "        self.slider_start = widgets.SelectionSlider(\n",
    "            description='start',\n",
    "            options=options,\n",
    "            continuous_update=False\n",
    "        )\n",
    "        self.slider_end = widgets.SelectionSlider(\n",
    "            description='end',\n",
    "            options=options,\n",
    "            continuous_update=False,\n",
    "            value=options[-1][1]\n",
    "        )\n",
    "\n",
    "        self.slider_start.observe(self.slider_start_changed, 'value')\n",
    "        self.slider_end.observe(self.slider_end_changed, 'value')\n",
    "\n",
    "        self.widget = widgets.Box(children=[self.slider_start,self.slider_end])\n",
    "\n",
    "    def slider_start_changed(self,key,value):\n",
    "        self.slider_end.value=max(self.slider_start.value,self.slider_end.value)\n",
    "        self._observe(start=self.slider_start.value,end=self.slider_end.value)\n",
    "\n",
    "    def slider_end_changed(self,key,value):\n",
    "        self.slider_start.value=min(self.slider_start.value,self.slider_end.value)\n",
    "        self._observe(start=self.slider_start.value,end=self.slider_end.value)\n",
    "\n",
    "    def display(self):\n",
    "        display(self.slider_start,self.slider_end)\n",
    "\n",
    "    def _observe(self,**kwargs):\n",
    "        if hasattr(self,'observe'):\n",
    "            self.observe(**kwargs)\n",
    "\n",
    "def fct(start,end):\n",
    "    print start,end"
   ]
  },
  {
   "cell_type": "code",
   "execution_count": null,
   "metadata": {
    "collapsed": false,
    "deletable": true,
    "editable": true,
    "run_control": {
     "marked": true
    }
   },
   "outputs": [],
   "source": [
    "import ipywidgets as widgets\n",
    "\n",
    "import datetime\n",
    "dates = [datetime.date(2015,i,1) for i in range(1,13)]\n",
    "options = [(i.strftime('%b'), i) for i in dates]\n",
    "widgets.SelectionRangeSlider(\n",
    "    options=options,\n",
    "    index=(0,11),\n",
    "    description='Months (2015)',\n",
    "    disabled=False\n",
    ")"
   ]
  }
 ],
 "metadata": {
  "hide_input": false,
  "kernelspec": {
   "display_name": "Python 2",
   "language": "python",
   "name": "python2"
  },
  "language_info": {
   "codemirror_mode": {
    "name": "ipython",
    "version": 2
   },
   "file_extension": ".py",
   "mimetype": "text/x-python",
   "name": "python",
   "nbconvert_exporter": "python",
   "pygments_lexer": "ipython2",
   "version": "2.7.12"
  },
  "nav_menu": {},
  "toc": {
   "navigate_menu": true,
   "number_sections": true,
   "sideBar": true,
   "threshold": 6,
   "toc_cell": true,
   "toc_section_display": "block",
   "toc_window_display": true
  },
  "toc_position": {
   "height": "605px",
   "left": "0px",
   "right": "808px",
   "top": "130px",
   "width": "212px"
  }
 },
 "nbformat": 4,
 "nbformat_minor": 2
}
