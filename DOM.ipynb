{
 "cells": [
  {
   "cell_type": "markdown",
   "metadata": {},
   "source": [
    "# DOM Java script HTML "
   ]
  },
  {
   "cell_type": "markdown",
   "metadata": {},
   "source": [
    "##### HTML geeft access to to the DOM"
   ]
  },
  {
   "cell_type": "code",
   "execution_count": 34,
   "metadata": {
    "collapsed": true
   },
   "outputs": [],
   "source": [
    "from IPython.core.display import display, HTML\n",
    "from string import Template\n",
    "import pandas as pd\n",
    "import json, random"
   ]
  },
  {
   "cell_type": "markdown",
   "metadata": {},
   "source": [
    "##### The HTML element can have \n",
    "<Li> css sheet style  , <li> script "
   ]
  },
  {
   "cell_type": "code",
   "execution_count": 76,
   "metadata": {
    "collapsed": false,
    "deletable": true,
    "editable": true,
    "scrolled": true
   },
   "outputs": [
    {
     "data": {
      "text/html": [
       "\n",
       "<style scoped>\n",
       ".bedazzled {\n",
       "  color: orange;\n",
       "}\n",
       "</style>\n",
       "<div id=\"d3-div-1\"></div>\n",
       "<script>\n",
       "\n",
       "var size_data = [10,20,30,40];\n",
       "\n",
       "d3.select(\"#d3-div-1\").selectAll('.bedazzled')\n",
       "    .data(size_data)\n",
       "    .enter().append('p')\n",
       "      .attr(\"class\",\"bedazzled\")\n",
       "      .style(\"font-size\", function(d){ return \"\" + d + \"px\";})\n",
       "      .text(\"Hello D3!\");\n",
       "\n",
       "</script>\n"
      ],
      "text/plain": [
       "<IPython.core.display.HTML object>"
      ]
     },
     "execution_count": 76,
     "metadata": {},
     "output_type": "execute_result"
    }
   ],
   "source": [
    "HTML('''\n",
    "<style scoped>\n",
    ".bedazzled {\n",
    "  color: orange;\n",
    "}\n",
    "</style>\n",
    "<div id=\"d3-div-1\"></div>\n",
    "<script>\n",
    "\n",
    "var size_data = [10,20,30,40];\n",
    "\n",
    "d3.select(\"#d3-div-1\").selectAll('.bedazzled')\n",
    "    .data(size_data)\n",
    "    .enter().append('p')\n",
    "      .attr(\"class\",\"bedazzled\")\n",
    "      .style(\"font-size\", function(d){ return \"\" + d + \"px\";})\n",
    "      .text(\"Hello D3!\");\n",
    "\n",
    "</script>\n",
    "''')"
   ]
  },
  {
   "cell_type": "markdown",
   "metadata": {},
   "source": [
    "# D3 javascript"
   ]
  },
  {
   "cell_type": "markdown",
   "metadata": {},
   "source": [
    "Using this bl.ocks example as a template."
   ]
  },
  {
   "cell_type": "markdown",
   "metadata": {},
   "source": [
    "#####  Internet connection"
   ]
  },
  {
   "cell_type": "code",
   "execution_count": 29,
   "metadata": {
    "collapsed": false
   },
   "outputs": [
    {
     "data": {
      "application/javascript": [
       "require.config({\n",
       "    paths: {\n",
       "        d3: '//cdnjs.cloudflare.com/ajax/libs/d3/3.4.8/d3.min'\n",
       "    }\n",
       "});"
      ],
      "text/plain": [
       "<IPython.core.display.Javascript object>"
      ]
     },
     "metadata": {},
     "output_type": "display_data"
    }
   ],
   "source": [
    "%%javascript\n",
    "require.config({\n",
    "    paths: {\n",
    "        d3: '//cdnjs.cloudflare.com/ajax/libs/d3/3.4.8/d3.min'\n",
    "    }\n",
    "});"
   ]
  },
  {
   "cell_type": "markdown",
   "metadata": {},
   "source": [
    "#####  no internet "
   ]
  },
  {
   "cell_type": "code",
   "execution_count": 31,
   "metadata": {
    "collapsed": false
   },
   "outputs": [
    {
     "data": {
      "text/html": [
       "<script src=\"lib/d3/d3.min.js\"></script>"
      ],
      "text/plain": [
       "<IPython.core.display.HTML object>"
      ]
     },
     "execution_count": 31,
     "metadata": {},
     "output_type": "execute_result"
    }
   ],
   "source": [
    "HTML('<script src=\"lib/d3/d3.min.js\"></script>')"
   ]
  },
  {
   "cell_type": "markdown",
   "metadata": {},
   "source": [
    "#####  Maak de template voor het script:  js_text_template"
   ]
  },
  {
   "cell_type": "markdown",
   "metadata": {},
   "source": [
    "<li> pak alles tussen de SCRIPT tags\n",
    "<li> Drie dubble quotes eromheen\n",
    "<li> noem js_text_template\n",
    "<li> verander de width en height\n",
    "<li> verander body  naar #$ankerpunt \n",
    "\n",
    "<li> verander de functie waardata  ingelezen wordt naar  var data = $python_data ;\n",
    "<li> verwijder laatste haakjes"
   ]
  },
  {
   "cell_type": "code",
   "execution_count": 63,
   "metadata": {
    "collapsed": true
   },
   "outputs": [],
   "source": [
    "js_text_template=Template('''\n",
    "var margin = {top: 20, right: 20, bottom: 30, left: 40},\n",
    "// ****    width = 960 - margin.left - margin.right, ****\n",
    "// ****    height = 500 - margin.top - margin.bottom; ****\n",
    "    width = 720 - margin.left - margin.right,\n",
    "    height = 375 - margin.top - margin.bottom;\n",
    "\n",
    "var x = d3.scale.linear()\n",
    "    .range([0, width]);\n",
    "\n",
    "var y = d3.scale.linear()\n",
    "    .range([height, 0]);\n",
    "\n",
    "var color = d3.scale.category10();\n",
    "\n",
    "var xAxis = d3.svg.axis()\n",
    "    .scale(x)\n",
    "    .orient(\"bottom\");\n",
    "\n",
    "var yAxis = d3.svg.axis()\n",
    "    .scale(y)\n",
    "    .orient(\"left\");\n",
    "\n",
    "// **** var svg = d3.select(\"body\").append(\"svg\") ****\n",
    "var svg = d3.select(\"#$graphdiv\").append(\"svg\")\n",
    "    .attr(\"width\", width + margin.left + margin.right)\n",
    "    .attr(\"height\", height + margin.top + margin.bottom)\n",
    "  .append(\"g\")\n",
    "    .attr(\"transform\", \"translate(\" + margin.left + \",\" + margin.top + \")\");\n",
    "\n",
    "// **** d3.tsv(\"data.tsv\", function(error, data) { ****\n",
    "// ****  if (error) throw error; ****\n",
    "\n",
    "var data = $python_data ;\n",
    "\n",
    "  data.forEach(function(d) {\n",
    "    d.sepalLength = +d.sepalLength;\n",
    "    d.sepalWidth = +d.sepalWidth;\n",
    "  });\n",
    "\n",
    "  x.domain(d3.extent(data, function(d) { return d.sepalWidth; })).nice();\n",
    "  y.domain(d3.extent(data, function(d) { return d.sepalLength; })).nice();\n",
    "\n",
    "  svg.append(\"g\")\n",
    "      .attr(\"class\", \"x axis\")\n",
    "      .attr(\"transform\", \"translate(0,\" + height + \")\")\n",
    "      .call(xAxis)\n",
    "    .append(\"text\")\n",
    "      .attr(\"class\", \"label\")\n",
    "      .attr(\"x\", width)\n",
    "      .attr(\"y\", -6)\n",
    "      .style(\"text-anchor\", \"end\")\n",
    "      .text(\"Sepal Width (cm)\");\n",
    "\n",
    "  svg.append(\"g\")\n",
    "      .attr(\"class\", \"y axis\")\n",
    "      .call(yAxis)\n",
    "    .append(\"text\")\n",
    "      .attr(\"class\", \"label\")\n",
    "      .attr(\"transform\", \"rotate(-90)\")\n",
    "      .attr(\"y\", 6)\n",
    "      .attr(\"dy\", \".71em\")\n",
    "      .style(\"text-anchor\", \"end\")\n",
    "      .text(\"Sepal Length (cm)\")\n",
    "\n",
    "  svg.selectAll(\".dot\")\n",
    "      .data(data)\n",
    "    .enter().append(\"circle\")\n",
    "      .attr(\"class\", \"dot\")\n",
    "      .attr(\"r\", 3.5)\n",
    "      .attr(\"cx\", function(d) { return x(d.sepalWidth); })\n",
    "      .attr(\"cy\", function(d) { return y(d.sepalLength); })\n",
    "      .style(\"fill\", function(d) { return color(d.species); });\n",
    "\n",
    "  var legend = svg.selectAll(\".legend\")\n",
    "      .data(color.domain())\n",
    "    .enter().append(\"g\")\n",
    "      .attr(\"class\", \"legend\")\n",
    "      .attr(\"transform\", function(d, i) { return \"translate(0,\" + i * 20 + \")\"; });\n",
    "\n",
    "  legend.append(\"rect\")\n",
    "      .attr(\"x\", width - 18)\n",
    "      .attr(\"width\", 18)\n",
    "      .attr(\"height\", 18)\n",
    "      .style(\"fill\", color);\n",
    "\n",
    "  legend.append(\"text\")\n",
    "      .attr(\"x\", width - 24)\n",
    "      .attr(\"y\", 9)\n",
    "      .attr(\"dy\", \".35em\")\n",
    "      .style(\"text-anchor\", \"end\")\n",
    "      .text(function(d) { return d; });\n",
    "\n",
    "// **** }); ****\n",
    "\n",
    "''')"
   ]
  },
  {
   "cell_type": "markdown",
   "metadata": {},
   "source": [
    "##### Style "
   ]
  },
  {
   "cell_type": "markdown",
   "metadata": {},
   "source": [
    "<li>Haal alles tussen de  STYLE blok en zet hieronder\n",
    "<li>body weg"
   ]
  },
  {
   "cell_type": "code",
   "execution_count": 37,
   "metadata": {
    "collapsed": false
   },
   "outputs": [],
   "source": [
    "css_text = '''body {\n",
    "  font: 10px sans-serif;\n",
    "}\n",
    "\n",
    ".axis path,\n",
    ".axis line {\n",
    "  fill: none;\n",
    "  stroke: #000;\n",
    "  shape-rendering: crispEdges;\n",
    "}\n",
    "\n",
    ".dot {\n",
    "  stroke: #000;\n",
    "}'''"
   ]
  },
  {
   "cell_type": "markdown",
   "metadata": {},
   "source": [
    "##### data"
   ]
  },
  {
   "cell_type": "code",
   "execution_count": 67,
   "metadata": {
    "collapsed": false
   },
   "outputs": [
    {
     "name": "stdout",
     "output_type": "stream",
     "text": [
      "Writing data.tsv\n"
     ]
    }
   ],
   "source": [
    "%%file data.tsv\n",
    "sepalLength\tsepalWidth\tpetalLength\tpetalWidth\tspecies\n",
    "5.1\t3.5\t1.4\t0.2\tsetosa\n",
    "4.9\t3.0\t1.4\t0.2\tsetosa\n",
    "4.7\t3.2\t1.3\t0.2\tsetosa\n",
    "4.6\t3.1\t1.5\t0.2\tsetosa\n",
    "5.0\t3.6\t1.4\t0.2\tsetosa\n",
    "5.4\t3.9\t1.7\t0.4\tsetosa"
   ]
  },
  {
   "cell_type": "code",
   "execution_count": 74,
   "metadata": {
    "collapsed": false
   },
   "outputs": [],
   "source": [
    "iris = pd.read_csv(\"data.tsv\",sep=\"\\t\")\n",
    "#my_dicts=iris.to_json()\n",
    "my_dicts = iris.to_dict(orient='records')"
   ]
  },
  {
   "cell_type": "markdown",
   "metadata": {},
   "source": [
    "# Make template and add data"
   ]
  },
  {
   "cell_type": "code",
   "execution_count": 75,
   "metadata": {
    "collapsed": false
   },
   "outputs": [
    {
     "data": {
      "text/html": [
       "\n",
       "<style> body {\n",
       "  font: 10px sans-serif;\n",
       "}\n",
       "\n",
       ".axis path,\n",
       ".axis line {\n",
       "  fill: none;\n",
       "  stroke: #000;\n",
       "  shape-rendering: crispEdges;\n",
       "}\n",
       "\n",
       ".dot {\n",
       "  stroke: #000;\n",
       "} </style>\n",
       "<div id=\"graph-div\"></div>\n",
       "<script> var margin = {top: 20, right: 20, bottom: 30, left: 40},\n",
       "    width = 960 - margin.left - margin.right,\n",
       "    height = 500 - margin.top - margin.bottom;\n",
       "\n",
       "var x = d3.scale.linear()\n",
       "    .range([0, width]);\n",
       "\n",
       "var y = d3.scale.linear()\n",
       "    .range([height, 0]);\n",
       "\n",
       "var color = d3.scale.category10();\n",
       "\n",
       "var xAxis = d3.svg.axis()\n",
       "    .scale(x)\n",
       "    .orient(\"bottom\");\n",
       "\n",
       "var yAxis = d3.svg.axis()\n",
       "    .scale(y)\n",
       "    .orient(\"left\");\n",
       "\n",
       "var svg  =  d3.select(\"#graph-div\").append(\"svg\")\n",
       "    .attr(\"width\", width + margin.left + margin.right)\n",
       "    .attr(\"height\", height + margin.top + margin.bottom)\n",
       "  .append(\"g\")\n",
       "    .attr(\"transform\", \"translate(\" + margin.left + \",\" + margin.top + \")\");\n",
       "\n",
       "\n",
       "var data = [{\"sepalLength\": 5.1, \"petalWidth\": 0.2, \"sepalWidth\": 3.5, \"petalLength\": 1.4, \"species\": \"setosa\"}, {\"sepalLength\": 4.9, \"petalWidth\": 0.2, \"sepalWidth\": 3.0, \"petalLength\": 1.4, \"species\": \"setosa\"}, {\"sepalLength\": 4.7, \"petalWidth\": 0.2, \"sepalWidth\": 3.2, \"petalLength\": 1.3, \"species\": \"setosa\"}, {\"sepalLength\": 4.6, \"petalWidth\": 0.2, \"sepalWidth\": 3.1, \"petalLength\": 1.5, \"species\": \"setosa\"}, {\"sepalLength\": 5.0, \"petalWidth\": 0.2, \"sepalWidth\": 3.6, \"petalLength\": 1.4, \"species\": \"setosa\"}, {\"sepalLength\": 5.4, \"petalWidth\": 0.4, \"sepalWidth\": 3.9, \"petalLength\": 1.7, \"species\": \"setosa\"}] ;\n",
       "  data.forEach(function(d) {\n",
       "    d.sepalLength = +d.sepalLength;\n",
       "    d.sepalWidth = +d.sepalWidth;\n",
       "  });\n",
       "\n",
       "  x.domain(d3.extent(data, function(d) { return d.sepalWidth; })).nice();\n",
       "  y.domain(d3.extent(data, function(d) { return d.sepalLength; })).nice();\n",
       "\n",
       "  svg.append(\"g\")\n",
       "      .attr(\"class\", \"x axis\")\n",
       "      .attr(\"transform\", \"translate(0,\" + height + \")\")\n",
       "      .call(xAxis)\n",
       "    .append(\"text\")\n",
       "      .attr(\"class\", \"label\")\n",
       "      .attr(\"x\", width)\n",
       "      .attr(\"y\", -6)\n",
       "      .style(\"text-anchor\", \"end\")\n",
       "      .text(\"Sepal Width (cm)\");\n",
       "\n",
       "  svg.append(\"g\")\n",
       "      .attr(\"class\", \"y axis\")\n",
       "      .call(yAxis)\n",
       "    .append(\"text\")\n",
       "      .attr(\"class\", \"label\")\n",
       "      .attr(\"transform\", \"rotate(-90)\")\n",
       "      .attr(\"y\", 6)\n",
       "      .attr(\"dy\", \".71em\")\n",
       "      .style(\"text-anchor\", \"end\")\n",
       "      .text(\"Sepal Length (cm)\")\n",
       "\n",
       "  svg.selectAll(\".dot\")\n",
       "      .data(data)\n",
       "    .enter().append(\"circle\")\n",
       "      .attr(\"class\", \"dot\")\n",
       "      .attr(\"r\", 3.5)\n",
       "      .attr(\"cx\", function(d) { return x(d.sepalWidth); })\n",
       "      .attr(\"cy\", function(d) { return y(d.sepalLength); })\n",
       "      .style(\"fill\", function(d) { return color(d.species); });\n",
       "\n",
       "  var legend = svg.selectAll(\".legend\")\n",
       "      .data(color.domain())\n",
       "    .enter().append(\"g\")\n",
       "      .attr(\"class\", \"legend\")\n",
       "      .attr(\"transform\", function(d, i) { return \"translate(0,\" + i * 20 + \")\"; });\n",
       "\n",
       "  legend.append(\"rect\")\n",
       "      .attr(\"x\", width - 18)\n",
       "      .attr(\"width\", 18)\n",
       "      .attr(\"height\", 18)\n",
       "      .style(\"fill\", color);\n",
       "\n",
       "  legend.append(\"text\")\n",
       "      .attr(\"x\", width - 24)\n",
       "      .attr(\"y\", 9)\n",
       "      .attr(\"dy\", \".35em\")\n",
       "      .style(\"text-anchor\", \"end\")\n",
       "      .text(function(d) { return d; });\n",
       "\n",
       " </script>\n"
      ],
      "text/plain": [
       "<IPython.core.display.HTML object>"
      ]
     },
     "execution_count": 75,
     "metadata": {},
     "output_type": "execute_result"
    }
   ],
   "source": [
    "html_template = Template('''\n",
    "<style> $css_text </style>\n",
    "<div id=\"graph-div\"></div>\n",
    "<script> $js_text </script>\n",
    "''')\n",
    "js_text = js_text_template.substitute({'python_data': json.dumps(my_dicts),\n",
    "                                       'graphdiv': 'graph-div'})\n",
    "HTML(html_template.substitute({'css_text': css_text, 'js_text': js_text}))"
   ]
  }
 ],
 "metadata": {
  "kernelspec": {
   "display_name": "Python 2",
   "language": "python",
   "name": "python2"
  },
  "language_info": {
   "codemirror_mode": {
    "name": "ipython",
    "version": 2
   },
   "file_extension": ".py",
   "mimetype": "text/x-python",
   "name": "python",
   "nbconvert_exporter": "python",
   "pygments_lexer": "ipython2",
   "version": "2.7.12"
  }
 },
 "nbformat": 4,
 "nbformat_minor": 2
}
