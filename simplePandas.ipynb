{
 "cells": [
  {
   "cell_type": "code",
   "execution_count": 1,
   "metadata": {
    "collapsed": true
   },
   "outputs": [],
   "source": [
    "import pandas as pd\n",
    "import datetime\n",
    "import random\n",
    "import matplotlib.pyplot as plt\n",
    "from datetime import date\n",
    "from datetime import datetime\n",
    "import datetime as dt\n",
    "\n",
    "import matplotlib.dates as mdates\n",
    "import numpy as np\n",
    "\n",
    "\n"
   ]
  },
  {
   "cell_type": "markdown",
   "metadata": {},
   "source": [
    "# Jupiter Help\n",
    "\n",
    "head()  first elements\n",
    "pinda?  <enter>     geeft halve pagina uitleg\n",
    "<tab> \n",
    "\n",
    "Green Editing mode\n",
    "\n",
    "esc     Goto bleu mode\n",
    "\n",
    "\n",
    "Blue Command mode\n",
    "\n",
    "a       Make new cel before current \n",
    "b       Make new cel after\n",
    "y       Change python cell\n",
    "m       Change markup\n",
    "t       \n",
    "1-6     Letter type\n",
    "s       Save\n",
    "x       Delete cel\n",
    "c       Copy and make new cel\n",
    "v       Cut cel\n",
    "z       Undo cel \n",
    "enter   edit cel\n",
    "up \n",
    "down \n",
    "\n"
   ]
  },
  {
   "cell_type": "code",
   "execution_count": null,
   "metadata": {
    "collapsed": true
   },
   "outputs": [],
   "source": []
  },
  {
   "cell_type": "markdown",
   "metadata": {},
   "source": [
    "Create a Panda"
   ]
  },
  {
   "cell_type": "code",
   "execution_count": 2,
   "metadata": {
    "collapsed": false
   },
   "outputs": [],
   "source": [
    "pinda = pd.read_csv(\"https://thingspeak.com/channels/124711/feed.csv\")\n",
    "pinda = pd.DataFrame({'kolom 1':[3,4,5],'kolom 2':['a','b','c'],'date':['2016-06-28 18:06:09 UTC','2016-06-28 18:08:09 UTC','2016-06-28 18:20:09 UTC']})"
   ]
  },
  {
   "cell_type": "code",
   "execution_count": 3,
   "metadata": {
    "collapsed": false
   },
   "outputs": [
    {
     "data": {
      "text/html": [
       "<div>\n",
       "<table border=\"1\" class=\"dataframe\">\n",
       "  <thead>\n",
       "    <tr style=\"text-align: right;\">\n",
       "      <th></th>\n",
       "      <th>date</th>\n",
       "      <th>kolom 1</th>\n",
       "      <th>kolom 2</th>\n",
       "    </tr>\n",
       "  </thead>\n",
       "  <tbody>\n",
       "    <tr>\n",
       "      <th>0</th>\n",
       "      <td>2016-06-28 18:06:09 UTC</td>\n",
       "      <td>3</td>\n",
       "      <td>a</td>\n",
       "    </tr>\n",
       "    <tr>\n",
       "      <th>1</th>\n",
       "      <td>2016-06-28 18:08:09 UTC</td>\n",
       "      <td>4</td>\n",
       "      <td>b</td>\n",
       "    </tr>\n",
       "    <tr>\n",
       "      <th>2</th>\n",
       "      <td>2016-06-28 18:20:09 UTC</td>\n",
       "      <td>5</td>\n",
       "      <td>c</td>\n",
       "    </tr>\n",
       "  </tbody>\n",
       "</table>\n",
       "</div>"
      ],
      "text/plain": [
       "                      date  kolom 1 kolom 2\n",
       "0  2016-06-28 18:06:09 UTC        3       a\n",
       "1  2016-06-28 18:08:09 UTC        4       b\n",
       "2  2016-06-28 18:20:09 UTC        5       c"
      ]
     },
     "execution_count": 3,
     "metadata": {},
     "output_type": "execute_result"
    }
   ],
   "source": [
    "# help\n",
    "# pinda? <enter> \n",
    "pinda.head() # de eerste\n",
    "pinda.tail() # de laatste\n",
    "# index  is de eerste kolom\n",
    "dir (pinda)\n",
    "type(pinda)\n",
    "pinda"
   ]
  },
  {
   "cell_type": "code",
   "execution_count": 4,
   "metadata": {
    "collapsed": false
   },
   "outputs": [
    {
     "data": {
      "text/plain": [
       "date       2016-06-28 18:20:09 UTC\n",
       "kolom 1                          5\n",
       "kolom 2                          c\n",
       "Name: 2, dtype: object"
      ]
     },
     "execution_count": 4,
     "metadata": {},
     "output_type": "execute_result"
    }
   ],
   "source": [
    "# 1 row\n",
    "pinda.loc[2]   #label\n",
    "pinda.iloc[2]  #index"
   ]
  },
  {
   "cell_type": "code",
   "execution_count": 5,
   "metadata": {
    "collapsed": false
   },
   "outputs": [
    {
     "data": {
      "text/html": [
       "<div>\n",
       "<table border=\"1\" class=\"dataframe\">\n",
       "  <thead>\n",
       "    <tr style=\"text-align: right;\">\n",
       "      <th></th>\n",
       "      <th>date</th>\n",
       "      <th>kolom 1</th>\n",
       "      <th>kolom 2</th>\n",
       "      <th>kolom3</th>\n",
       "      <th>kolom4</th>\n",
       "    </tr>\n",
       "  </thead>\n",
       "  <tbody>\n",
       "    <tr>\n",
       "      <th>0</th>\n",
       "      <td>2016-06-28 18:06:09 UTC</td>\n",
       "      <td>3</td>\n",
       "      <td>a</td>\n",
       "      <td>1</td>\n",
       "      <td>bar</td>\n",
       "    </tr>\n",
       "    <tr>\n",
       "      <th>1</th>\n",
       "      <td>2016-06-28 18:08:09 UTC</td>\n",
       "      <td>4</td>\n",
       "      <td>b</td>\n",
       "      <td>2</td>\n",
       "      <td>bar</td>\n",
       "    </tr>\n",
       "    <tr>\n",
       "      <th>2</th>\n",
       "      <td>2016-06-28 18:20:09 UTC</td>\n",
       "      <td>5</td>\n",
       "      <td>c</td>\n",
       "      <td>3</td>\n",
       "      <td>bar</td>\n",
       "    </tr>\n",
       "  </tbody>\n",
       "</table>\n",
       "</div>"
      ],
      "text/plain": [
       "                      date  kolom 1 kolom 2  kolom3 kolom4\n",
       "0  2016-06-28 18:06:09 UTC        3       a       1    bar\n",
       "1  2016-06-28 18:08:09 UTC        4       b       2    bar\n",
       "2  2016-06-28 18:20:09 UTC        5       c       3    bar"
      ]
     },
     "execution_count": 5,
     "metadata": {},
     "output_type": "execute_result"
    }
   ],
   "source": [
    "# voeg kolom toe\n",
    "pinda['kolom3'] = [1,2,3]\n",
    "pinda['kolom4'] = 'bar'\n",
    "pinda.head()"
   ]
  },
  {
   "cell_type": "code",
   "execution_count": 6,
   "metadata": {
    "collapsed": false
   },
   "outputs": [
    {
     "data": {
      "text/html": [
       "<div>\n",
       "<table border=\"1\" class=\"dataframe\">\n",
       "  <thead>\n",
       "    <tr style=\"text-align: right;\">\n",
       "      <th></th>\n",
       "      <th>date</th>\n",
       "      <th>kolom 1</th>\n",
       "      <th>kolom 2</th>\n",
       "    </tr>\n",
       "  </thead>\n",
       "  <tbody>\n",
       "    <tr>\n",
       "      <th>0</th>\n",
       "      <td>2016-06-28 18:06:09 UTC</td>\n",
       "      <td>3</td>\n",
       "      <td>a</td>\n",
       "    </tr>\n",
       "    <tr>\n",
       "      <th>1</th>\n",
       "      <td>2016-06-28 18:08:09 UTC</td>\n",
       "      <td>4</td>\n",
       "      <td>b</td>\n",
       "    </tr>\n",
       "    <tr>\n",
       "      <th>2</th>\n",
       "      <td>2016-06-28 18:20:09 UTC</td>\n",
       "      <td>5</td>\n",
       "      <td>c</td>\n",
       "    </tr>\n",
       "  </tbody>\n",
       "</table>\n",
       "</div>"
      ],
      "text/plain": [
       "                      date  kolom 1 kolom 2\n",
       "0  2016-06-28 18:06:09 UTC        3       a\n",
       "1  2016-06-28 18:08:09 UTC        4       b\n",
       "2  2016-06-28 18:20:09 UTC        5       c"
      ]
     },
     "execution_count": 6,
     "metadata": {},
     "output_type": "execute_result"
    }
   ],
   "source": [
    "#delete kolom\n",
    "del pinda['kolom3']\n",
    "pinda.pop('kolom4')\n",
    "pinda.head()"
   ]
  },
  {
   "cell_type": "code",
   "execution_count": 7,
   "metadata": {
    "collapsed": false
   },
   "outputs": [
    {
     "name": "stdout",
     "output_type": "stream",
     "text": [
      "0 3\n",
      "1 4\n",
      "2 5\n"
     ]
    }
   ],
   "source": [
    "#Loop through rows in a DataFrame\n",
    "for index, row in pinda.iterrows():\n",
    "    print index, row['kolom 1'] "
   ]
  },
  {
   "cell_type": "code",
   "execution_count": 8,
   "metadata": {
    "collapsed": false,
    "scrolled": true
   },
   "outputs": [
    {
     "data": {
      "text/plain": [
       "3"
      ]
     },
     "execution_count": 8,
     "metadata": {},
     "output_type": "execute_result"
    }
   ],
   "source": [
    "#Get quick count of rows in a DataFrame\n",
    "len(pinda.index)"
   ]
  },
  {
   "cell_type": "code",
   "execution_count": 9,
   "metadata": {
    "collapsed": false
   },
   "outputs": [
    {
     "data": {
      "text/plain": [
       "[3, 4, 5]"
      ]
     },
     "execution_count": 9,
     "metadata": {},
     "output_type": "execute_result"
    }
   ],
   "source": [
    "# panda colomn to list\n",
    "pinda['kolom 1'].tolist()"
   ]
  },
  {
   "cell_type": "code",
   "execution_count": 10,
   "metadata": {
    "collapsed": false,
    "scrolled": true
   },
   "outputs": [
    {
     "data": {
      "text/html": [
       "<div>\n",
       "<table border=\"1\" class=\"dataframe\">\n",
       "  <thead>\n",
       "    <tr style=\"text-align: right;\">\n",
       "      <th></th>\n",
       "      <th>date</th>\n",
       "      <th>kolom 1</th>\n",
       "      <th>kolom 2</th>\n",
       "      <th>date2</th>\n",
       "    </tr>\n",
       "  </thead>\n",
       "  <tbody>\n",
       "    <tr>\n",
       "      <th>0</th>\n",
       "      <td>2016-06-28 18:06:09 UTC</td>\n",
       "      <td>3</td>\n",
       "      <td>a</td>\n",
       "      <td>2016-06-28 18:06:09</td>\n",
       "    </tr>\n",
       "    <tr>\n",
       "      <th>1</th>\n",
       "      <td>2016-06-28 18:08:09 UTC</td>\n",
       "      <td>4</td>\n",
       "      <td>b</td>\n",
       "      <td>2016-06-28 18:08:09</td>\n",
       "    </tr>\n",
       "    <tr>\n",
       "      <th>2</th>\n",
       "      <td>2016-06-28 18:20:09 UTC</td>\n",
       "      <td>5</td>\n",
       "      <td>c</td>\n",
       "      <td>2016-06-28 18:20:09</td>\n",
       "    </tr>\n",
       "  </tbody>\n",
       "</table>\n",
       "</div>"
      ],
      "text/plain": [
       "                      date  kolom 1 kolom 2               date2\n",
       "0  2016-06-28 18:06:09 UTC        3       a 2016-06-28 18:06:09\n",
       "1  2016-06-28 18:08:09 UTC        4       b 2016-06-28 18:08:09\n",
       "2  2016-06-28 18:20:09 UTC        5       c 2016-06-28 18:20:09"
      ]
     },
     "execution_count": 10,
     "metadata": {},
     "output_type": "execute_result"
    }
   ],
   "source": [
    "#raw_data['Mycol'] =  pd.to_datetime(raw_data['Mycol'], format='%d%b%Y:%H:%M:%S.%f')\n",
    "pinda['date2']=pd.to_datetime(pinda['date'],format='%Y-%m-%d %H:%M:%S %Z' )\n",
    "pinda.head()"
   ]
  },
  {
   "cell_type": "code",
   "execution_count": 11,
   "metadata": {
    "collapsed": false
   },
   "outputs": [],
   "source": [
    "plt.plot(pinda['date2'].tolist(),pinda['kolom 1'].tolist())\n",
    "# beautify the x-labels\n",
    "plt.gcf().autofmt_xdate()\n",
    "\n",
    "plt.show()"
   ]
  },
  {
   "cell_type": "code",
   "execution_count": 12,
   "metadata": {
    "collapsed": false
   },
   "outputs": [
    {
     "ename": "NameError",
     "evalue": "name 'df' is not defined",
     "output_type": "error",
     "traceback": [
      "\u001b[0;31m---------------------------------------------------------------------------\u001b[0m",
      "\u001b[0;31mNameError\u001b[0m                                 Traceback (most recent call last)",
      "\u001b[0;32m<ipython-input-12-f5cacb5d6fed>\u001b[0m in \u001b[0;36m<module>\u001b[0;34m()\u001b[0m\n\u001b[1;32m      1\u001b[0m \u001b[0;31m#List unique values in a DataFrame column\u001b[0m\u001b[0;34m\u001b[0m\u001b[0;34m\u001b[0m\u001b[0m\n\u001b[0;32m----> 2\u001b[0;31m \u001b[0mpd\u001b[0m\u001b[0;34m.\u001b[0m\u001b[0munique\u001b[0m\u001b[0;34m(\u001b[0m\u001b[0mdf\u001b[0m\u001b[0;34m.\u001b[0m\u001b[0mcolumn_name\u001b[0m\u001b[0;34m.\u001b[0m\u001b[0mravel\u001b[0m\u001b[0;34m(\u001b[0m\u001b[0;34m)\u001b[0m\u001b[0;34m)\u001b[0m\u001b[0;34m\u001b[0m\u001b[0m\n\u001b[0m\u001b[1;32m      3\u001b[0m \u001b[0;34m\u001b[0m\u001b[0m\n\u001b[1;32m      4\u001b[0m \u001b[0;31m#Convert Series datatype to numeric, getting rid of any non-numeric values\u001b[0m\u001b[0;34m\u001b[0m\u001b[0;34m\u001b[0m\u001b[0m\n\u001b[1;32m      5\u001b[0m \u001b[0mdf\u001b[0m\u001b[0;34m[\u001b[0m\u001b[0;34m'col'\u001b[0m\u001b[0;34m]\u001b[0m \u001b[0;34m=\u001b[0m \u001b[0mdf\u001b[0m\u001b[0;34m[\u001b[0m\u001b[0;34m'col'\u001b[0m\u001b[0;34m]\u001b[0m\u001b[0;34m.\u001b[0m\u001b[0mastype\u001b[0m\u001b[0;34m(\u001b[0m\u001b[0mstr\u001b[0m\u001b[0;34m)\u001b[0m\u001b[0;34m.\u001b[0m\u001b[0mconvert_objects\u001b[0m\u001b[0;34m(\u001b[0m\u001b[0mconvert_numeric\u001b[0m\u001b[0;34m=\u001b[0m\u001b[0mTrue\u001b[0m\u001b[0;34m)\u001b[0m\u001b[0;34m\u001b[0m\u001b[0m\n",
      "\u001b[0;31mNameError\u001b[0m: name 'df' is not defined"
     ]
    }
   ],
   "source": [
    "#List unique values in a DataFrame column\n",
    "pd.unique(df.column_name.ravel())\n",
    "\n",
    "#Convert Series datatype to numeric, getting rid of any non-numeric values\n",
    "df['col'] = df['col'].astype(str).convert_objects(convert_numeric=True)\n",
    "\n",
    "#Grab DataFrame rows where column has certain values\n",
    "valuelist = ['value1', 'value2', 'value3']\n",
    "df = df[df.column.isin(value_list)]\n",
    "\n",
    "#Grab DataFrame rows where column doesn't have certain values\n",
    "valuelist = ['value1', 'value2', 'value3']\n",
    "df = df[~df.column.isin(value_list)]\n",
    "\n",
    "#Select from DataFrame using criteria from multiple columns\n",
    "newdf = df[(df['column_one']>2004) & (df['column_two']==9)]\n",
    "\n",
    "#Rename several DataFrame columns\n",
    "df = df.rename(columns = {\n",
    "    'col1 old name':'col1 new name',\n",
    "    'col2 old name':'col2 new name',\n",
    "    'col3 old name':'col3 new name',\n",
    "})\n",
    "\n",
    "#lower-case all DataFrame column names\n",
    "df.columns = map(str.lower, df.columns)\n",
    "\n",
    "#even more fancy DataFrame column re-naming\n",
    "#lower-case all DataFrame column names (for example)\n",
    "df.rename(columns=lambda x: x.split('.')[-1], inplace=True)\n",
    "\n",
    "\n",
    "#Next few examples show how to work with text data in Pandas.\n",
    "#Full list of .str functions: http://pandas.pydata.org/pandas-docs/stable/text.html\n",
    "\n",
    "#Slice values in a DataFrame column (aka Series)\n",
    "df.column.str[0:2]\n",
    "\n",
    "#Lower-case everything in a DataFrame column\n",
    "df.column_name = df.column_name.str.lower()\n",
    "\n",
    "#Get length of data in a DataFrame column\n",
    "df.column_name.str.len()\n",
    "\n",
    "#Sort dataframe by multiple columns\n",
    "df = df.sort(['col1','col2','col3'],ascending=[1,1,0])\n",
    "\n",
    "#get top n for each group of columns in a sorted dataframe\n",
    "#(make sure dataframe is sorted first)\n",
    "top5 = df.groupby(['groupingcol1', 'groupingcol2']).head(5)\n",
    "\n",
    "#Grab DataFrame rows where specific column is null/notnull\n",
    "newdf = df[df['column'].isnull()]\n",
    "\n",
    "#select from DataFrame using multiple keys of a hierarchical index\n",
    "df.xs(('index level 1 value','index level 2 value'), level=('level 1','level 2'))\n",
    "\n",
    "#Change all NaNs to None (useful before\n",
    "#loading to a db)\n",
    "df = df.where((pd.notnull(df)), None)\n",
    "\n",
    "#Pivot data (with flexibility about what what\n",
    "#becomes a column and what stays a row).\n",
    "#Syntax works on Pandas >= .14\n",
    "pd.pivot_table(\n",
    "  df,values='cell_value',\n",
    "  index=['col1', 'col2', 'col3'], #these stay as columns\n",
    "  columns=['col4']) #data values in this column become their own column\n",
    "\n",
    "#change data type of DataFrame column\n",
    "df.column_name = df.column_name.astype(np.int64)\n",
    "\n",
    "# Get rid of non-numeric values throughout a DataFrame:\n",
    "for col in refunds.columns.values:\n",
    "  refunds[col] = refunds[col].replace('[^0-9]+.-', '', regex=True)\n",
    "\n",
    "#Set DataFrame column values based on other column values\n",
    "df['column_to_change'][(df['column1'] == some_value) & (df['column2'] == some_other_value)] = new_value\n",
    "\n",
    "#Clean up missing values in multiple DataFrame columns\n",
    "df = df.fillna({\n",
    "    'col1': 'missing',\n",
    "    'col2': '99.999',\n",
    "    'col3': '999',\n",
    "    'col4': 'missing',\n",
    "    'col5': 'missing',\n",
    "    'col6': '99'\n",
    "})\n",
    "\n",
    "#Concatenate two DataFrame columns into a new, single column\n",
    "#(useful when dealing with composite keys, for example)\n",
    "df['newcol'] = df['col1'].map(str) + df['col2'].map(str)\n",
    "\n",
    "#Doing calculations with DataFrame columns that have missing values\n",
    "#In example below, swap in 0 for df['col1'] cells that contain null\n",
    "df['new_col'] = np.where(pd.isnull(df['col1']),0,df['col1']) + df['col2']\n",
    "\n",
    "# Split delimited values in a DataFrame column into two new columns\n",
    "df['new_col1'], df['new_col2'] = zip(*df['original_col'].apply(lambda x: x.split(': ', 1)))\n",
    "\n",
    "# Collapse hierarchical column indexes\n",
    "df.columns = df.columns.get_level_values(0)\n",
    "\n",
    "#Convert Django queryset to DataFrame\n",
    "qs = DjangoModelName.objects.all()\n",
    "q = qs.values()\n",
    "df = pd.DataFrame.from_records(q)\n",
    "\n",
    "#Create a DataFrame from a Python dictionary\n",
    "df = pd.DataFrame(list(a_dictionary.items()), columns = ['column1', 'column2'])"
   ]
  },
  {
   "cell_type": "code",
   "execution_count": null,
   "metadata": {
    "collapsed": true
   },
   "outputs": [],
   "source": []
  }
 ],
 "metadata": {
  "kernelspec": {
   "display_name": "Python 2",
   "language": "python",
   "name": "python2"
  },
  "language_info": {
   "codemirror_mode": {
    "name": "ipython",
    "version": 2
   },
   "file_extension": ".py",
   "mimetype": "text/x-python",
   "name": "python",
   "nbconvert_exporter": "python",
   "pygments_lexer": "ipython2",
   "version": "2.7.10"
  },
  "widgets": {
   "state": {},
   "version": "1.1.2"
  }
 },
 "nbformat": 4,
 "nbformat_minor": 0
}
