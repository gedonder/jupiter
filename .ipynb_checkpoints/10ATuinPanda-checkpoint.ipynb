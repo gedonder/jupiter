{
 "cells": [
  {
   "cell_type": "code",
   "execution_count": 8,
   "metadata": {
    "collapsed": false
   },
   "outputs": [],
   "source": [
    "import pandas as pd\n",
    "import datetime\n",
    "import matplotlib.pyplot as plt\n",
    "import numpy as np\n"
   ]
  },
  {
   "cell_type": "markdown",
   "metadata": {},
   "source": [
    "# Thingspeak python and pandas"
   ]
  },
  {
   "cell_type": "markdown",
   "metadata": {},
   "source": [
    "## read the data ##\n",
    "results (integer) Number of entries to retrieve, 8000 max (optional) <br>\n",
    "days (integer) Number of 24-hour periods before now to include in feed, default 1 (optional)<br>\n",
    "start (datetime) Start date in format YYYY-MM-DD%20HH:NN:SS (optional)<br>\n",
    "end (datetime) End date in format YYYY-MM-DD%20HH:NN:SS (optional)<br>"
   ]
  },
  {
   "cell_type": "code",
   "execution_count": 36,
   "metadata": {
    "collapsed": false,
    "scrolled": true
   },
   "outputs": [
    {
     "data": {
      "text/html": [
       "<div>\n",
       "<table border=\"1\" class=\"dataframe\">\n",
       "  <thead>\n",
       "    <tr style=\"text-align: right;\">\n",
       "      <th></th>\n",
       "      <th>created_at</th>\n",
       "      <th>entry_id</th>\n",
       "      <th>field1</th>\n",
       "      <th>field2</th>\n",
       "      <th>field3</th>\n",
       "      <th>field4</th>\n",
       "    </tr>\n",
       "  </thead>\n",
       "  <tbody>\n",
       "    <tr>\n",
       "      <th>0</th>\n",
       "      <td>2016-06-24 15:34:10 UTC</td>\n",
       "      <td>1535</td>\n",
       "      <td>95</td>\n",
       "      <td>NaN</td>\n",
       "      <td>25.0</td>\n",
       "      <td>62.0</td>\n",
       "    </tr>\n",
       "    <tr>\n",
       "      <th>1</th>\n",
       "      <td>2016-06-24 15:36:09 UTC</td>\n",
       "      <td>1536</td>\n",
       "      <td>100</td>\n",
       "      <td>NaN</td>\n",
       "      <td>25.0</td>\n",
       "      <td>61.0</td>\n",
       "    </tr>\n",
       "    <tr>\n",
       "      <th>2</th>\n",
       "      <td>2016-06-24 15:38:10 UTC</td>\n",
       "      <td>1537</td>\n",
       "      <td>88</td>\n",
       "      <td>NaN</td>\n",
       "      <td>25.0</td>\n",
       "      <td>61.0</td>\n",
       "    </tr>\n",
       "    <tr>\n",
       "      <th>3</th>\n",
       "      <td>2016-06-24 15:40:10 UTC</td>\n",
       "      <td>1538</td>\n",
       "      <td>122</td>\n",
       "      <td>NaN</td>\n",
       "      <td>25.0</td>\n",
       "      <td>61.0</td>\n",
       "    </tr>\n",
       "    <tr>\n",
       "      <th>4</th>\n",
       "      <td>2016-06-24 15:42:09 UTC</td>\n",
       "      <td>1539</td>\n",
       "      <td>119</td>\n",
       "      <td>NaN</td>\n",
       "      <td>26.0</td>\n",
       "      <td>60.0</td>\n",
       "    </tr>\n",
       "  </tbody>\n",
       "</table>\n",
       "</div>"
      ],
      "text/plain": [
       "                created_at  entry_id  field1  field2  field3  field4\n",
       "0  2016-06-24 15:34:10 UTC      1535      95     NaN    25.0    62.0\n",
       "1  2016-06-24 15:36:09 UTC      1536     100     NaN    25.0    61.0\n",
       "2  2016-06-24 15:38:10 UTC      1537      88     NaN    25.0    61.0\n",
       "3  2016-06-24 15:40:10 UTC      1538     122     NaN    25.0    61.0\n",
       "4  2016-06-24 15:42:09 UTC      1539     119     NaN    26.0    60.0"
      ]
     },
     "execution_count": 36,
     "metadata": {},
     "output_type": "execute_result"
    }
   ],
   "source": [
    "pinda = pd.read_csv(\"https://thingspeak.com/channels/124711/feed.csv?start=2011-11-11%2010:10:10&end=2016-11-11%2011:11:11\")\n",
    "pinda = pd.read_csv(\"https://thingspeak.com/channels/124711/feed.csv?days=5\")\n",
    "\n",
    "\n",
    "#pinda = pd.read_csv(\"https://thingspeak.com/channels/124711/feed.csv\")\n",
    "\n",
    "pinda.head()"
   ]
  },
  {
   "cell_type": "markdown",
   "metadata": {},
   "source": [
    "# temperatuur\n"
   ]
  },
  {
   "cell_type": "code",
   "execution_count": 37,
   "metadata": {
    "collapsed": false
   },
   "outputs": [
    {
     "data": {
      "text/html": [
       "<div>\n",
       "<table border=\"1\" class=\"dataframe\">\n",
       "  <thead>\n",
       "    <tr style=\"text-align: right;\">\n",
       "      <th></th>\n",
       "      <th>created_at</th>\n",
       "      <th>entry_id</th>\n",
       "      <th>field1</th>\n",
       "      <th>field2</th>\n",
       "      <th>field3</th>\n",
       "      <th>field4</th>\n",
       "      <th>date2</th>\n",
       "    </tr>\n",
       "  </thead>\n",
       "  <tbody>\n",
       "    <tr>\n",
       "      <th>0</th>\n",
       "      <td>2016-06-24 15:34:10 UTC</td>\n",
       "      <td>1535</td>\n",
       "      <td>95</td>\n",
       "      <td>NaN</td>\n",
       "      <td>25.0</td>\n",
       "      <td>62.0</td>\n",
       "      <td>2016-06-24 15:34:10</td>\n",
       "    </tr>\n",
       "    <tr>\n",
       "      <th>1</th>\n",
       "      <td>2016-06-24 15:36:09 UTC</td>\n",
       "      <td>1536</td>\n",
       "      <td>100</td>\n",
       "      <td>NaN</td>\n",
       "      <td>25.0</td>\n",
       "      <td>61.0</td>\n",
       "      <td>2016-06-24 15:36:09</td>\n",
       "    </tr>\n",
       "    <tr>\n",
       "      <th>2</th>\n",
       "      <td>2016-06-24 15:38:10 UTC</td>\n",
       "      <td>1537</td>\n",
       "      <td>88</td>\n",
       "      <td>NaN</td>\n",
       "      <td>25.0</td>\n",
       "      <td>61.0</td>\n",
       "      <td>2016-06-24 15:38:10</td>\n",
       "    </tr>\n",
       "    <tr>\n",
       "      <th>3</th>\n",
       "      <td>2016-06-24 15:40:10 UTC</td>\n",
       "      <td>1538</td>\n",
       "      <td>122</td>\n",
       "      <td>NaN</td>\n",
       "      <td>25.0</td>\n",
       "      <td>61.0</td>\n",
       "      <td>2016-06-24 15:40:10</td>\n",
       "    </tr>\n",
       "    <tr>\n",
       "      <th>4</th>\n",
       "      <td>2016-06-24 15:42:09 UTC</td>\n",
       "      <td>1539</td>\n",
       "      <td>119</td>\n",
       "      <td>NaN</td>\n",
       "      <td>26.0</td>\n",
       "      <td>60.0</td>\n",
       "      <td>2016-06-24 15:42:09</td>\n",
       "    </tr>\n",
       "  </tbody>\n",
       "</table>\n",
       "</div>"
      ],
      "text/plain": [
       "                created_at  entry_id  field1  field2  field3  field4  \\\n",
       "0  2016-06-24 15:34:10 UTC      1535      95     NaN    25.0    62.0   \n",
       "1  2016-06-24 15:36:09 UTC      1536     100     NaN    25.0    61.0   \n",
       "2  2016-06-24 15:38:10 UTC      1537      88     NaN    25.0    61.0   \n",
       "3  2016-06-24 15:40:10 UTC      1538     122     NaN    25.0    61.0   \n",
       "4  2016-06-24 15:42:09 UTC      1539     119     NaN    26.0    60.0   \n",
       "\n",
       "                date2  \n",
       "0 2016-06-24 15:34:10  \n",
       "1 2016-06-24 15:36:09  \n",
       "2 2016-06-24 15:38:10  \n",
       "3 2016-06-24 15:40:10  \n",
       "4 2016-06-24 15:42:09  "
      ]
     },
     "execution_count": 37,
     "metadata": {},
     "output_type": "execute_result"
    }
   ],
   "source": [
    "#pinda['date2']=pd.to_datetime(pinda['created_at'],format='%Y-%m-%d %H:M:%S %Z' )\n",
    "pinda['date2']=pd.to_datetime(pinda['created_at'],format='%Y-%m-%d %H:%M:%S %Z' )\n",
    "pinda.head()"
   ]
  },
  {
   "cell_type": "code",
   "execution_count": null,
   "metadata": {
    "collapsed": true
   },
   "outputs": [],
   "source": [
    "plt.plot(pinda['date2'].tolist(),pinda['field3'].tolist())\n",
    "plt.xlabel('time')\n",
    "plt.gcf().autofmt_xdate()\n",
    "\n",
    "\n",
    "plt.ylabel('temperatuur')\n",
    "plt.title('10A Tuin')\n",
    "plt.grid(True)\n",
    "plt.savefig(\"test.png\")\n",
    "plt.show()"
   ]
  },
  {
   "cell_type": "code",
   "execution_count": null,
   "metadata": {
    "collapsed": true
   },
   "outputs": [],
   "source": []
  }
 ],
 "metadata": {
  "kernelspec": {
   "display_name": "Python 2",
   "language": "python",
   "name": "python2"
  },
  "language_info": {
   "codemirror_mode": {
    "name": "ipython",
    "version": 2
   },
   "file_extension": ".py",
   "mimetype": "text/x-python",
   "name": "python",
   "nbconvert_exporter": "python",
   "pygments_lexer": "ipython2",
   "version": "2.7.10"
  },
  "widgets": {
   "state": {},
   "version": "1.1.2"
  }
 },
 "nbformat": 4,
 "nbformat_minor": 0
}
